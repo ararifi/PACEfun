{
 "cells": [
  {
   "cell_type": "markdown",
   "id": "5600a8a6",
   "metadata": {},
   "source": [
    "Using SPEXone and OCI data for analyzing the impact of dust plumes on marine organism"
   ]
  },
  {
   "cell_type": "markdown",
   "id": "e4ad3f71",
   "metadata": {},
   "source": [
    "SETUP <br>\n",
    "Load necessary packages and auth to cryocloud"
   ]
  },
  {
   "cell_type": "code",
   "execution_count": null,
   "id": "849a97ac",
   "metadata": {},
   "outputs": [],
   "source": [
    "import cartopy.crs as ccrs\n",
    "import cartopy.feature as cfeature\n",
    "import dask.array as da\n",
    "import earthaccess\n",
    "import matplotlib.pyplot as plt\n",
    "import numpy as np\n",
    "import xarray as xr\n",
    "from dask.distributed import Client\n",
    "from matplotlib.patches import Rectangle\n",
    "from rasterio.transform import from_origin"
   ]
  },
  {
   "cell_type": "code",
   "execution_count": null,
   "id": "c546df1e",
   "metadata": {},
   "outputs": [
    {
     "name": "stderr",
     "output_type": "stream",
     "text": [
      "2025-09-14 19:48:27,829 - distributed.scheduler - WARNING - Removing worker 'tcp://127.0.0.1:43209' caused the cluster to lose already computed task(s), which will be recomputed elsewhere: {'grid_match-c4ff7609dea692eadcb3a30bbdbe6fc5', 'grid_match-b156a1bf81cdf2dbe40dfc97d8a5dc3c', 'grid_match-92702e06e05b2d2b6d61bc6d606c266d', 'grid_match-c4a1d8b10af5cf1c9e37e7c5ea9d76a3', 'grid_match-320a94f6bcdb1f7cf81e1bd6907b3fd3', 'grid_match-10a4a2da8f901fa355ef3ec3b86afb9a', 'grid_match-e0042ae5a5decb4ee26fe992ec53701a'} (stimulus_id='handle-worker-cleanup-1757879307.8297842')\n",
      "2025-09-14 19:48:27,832 - distributed.scheduler - WARNING - Removing worker 'tcp://127.0.0.1:42271' caused the cluster to lose already computed task(s), which will be recomputed elsewhere: {'grid_match-a62fbfe3fc5d3a39768894ee1da20c65', 'grid_match-6f937504655caf02e00449c90880a30f', 'grid_match-bb370d9ffe552c78c079dbddc4e452c4', 'grid_match-842d3d22ad04ea2f7035e68fd3c211be', 'grid_match-39cb60a8f81bb36ddc58331dd8e9b101', 'grid_match-884f881fef6330c202f27fe946eb1afc', 'grid_match-59857a99273b6c3b93b09b3c9f24a3ca'} (stimulus_id='handle-worker-cleanup-1757879307.8324199')\n",
      "2025-09-14 19:48:27,835 - distributed.scheduler - WARNING - Removing worker 'tcp://127.0.0.1:38151' caused the cluster to lose already computed task(s), which will be recomputed elsewhere: {'grid_match-d837e038eb9c6e486a6e73bcd9c15422', 'grid_match-a265bd640de2a0a25728494770f2502c', 'grid_match-1407b62af1b49258077187dca2f5257a', 'grid_match-aa707cf64dd0b04fbd23bb4d7456e503', 'grid_match-6148f569c1eb168b27b95ad0fa188490', 'grid_match-b9281f68fc192acbd75283cb1a74980b'} (stimulus_id='handle-worker-cleanup-1757879307.8349657')\n",
      "2025-09-14 19:48:27,846 - distributed.nanny - WARNING - Restarting worker\n",
      "2025-09-14 19:48:27,888 - distributed.nanny - WARNING - Restarting worker\n",
      "2025-09-14 19:48:27,992 - distributed.nanny - WARNING - Restarting worker\n",
      "2025-09-14 19:48:28,296 - distributed.nanny - WARNING - Restarting worker\n",
      "2025-09-14 19:48:29,302 - distributed.nanny - WARNING - Restarting worker\n"
     ]
    }
   ],
   "source": [
    "client = Client()\n",
    "auth = earthaccess.login(\"../login.netrc\")"
   ]
  },
  {
   "cell_type": "markdown",
   "id": "674a5afb",
   "metadata": {},
   "source": [
    "SETUP: LOAD <br>\n",
    "Specifying parameter for loading the data"
   ]
  },
  {
   "cell_type": "code",
   "execution_count": null,
   "id": "cdb95cbc",
   "metadata": {},
   "outputs": [],
   "source": [
    "# --- TIME ---\n",
    "\n",
    "tspan = (\"2024-07-01 00:00\", \"2024-07-01 06:00\")\n",
    "\n",
    "# --- REGION ---\n",
    "\n",
    "region = (-60, 0, 5, 20)\n",
    "region = (-180, -90, 180, 90)\n",
    "#region =  (-20, 10,  -8, 30) #WSEN"
   ]
  },
  {
   "cell_type": "markdown",
   "id": "defd9ec5",
   "metadata": {},
   "source": [
    "SETUP: TARGET GRID <br>\n",
    "Parameters for interpolating swath data into a common grid"
   ]
  },
  {
   "cell_type": "code",
   "execution_count": null,
   "id": "6a662e23",
   "metadata": {},
   "outputs": [],
   "source": [
    "# --- TARGET GRID ---\n",
    "res = 1.0\n",
    "\n",
    "tgt_lat = np.arange(region[1] + res/2, region[3], res)\n",
    "tgt_lon = np.arange(region[0] + res/2, region[2], res)\n",
    "\n",
    "# --- INTERPOLATION METHOD ---\n",
    "method='linear'"
   ]
  },
  {
   "cell_type": "markdown",
   "id": "7cfcd3be",
   "metadata": {},
   "source": [
    "FUNCTIONS <br>\n",
    "Helpers to interpolate the data"
   ]
  },
  {
   "cell_type": "code",
   "execution_count": null,
   "id": "047ea95f",
   "metadata": {},
   "outputs": [],
   "source": [
    "def time_from_attr(ds):\n",
    "    \"\"\"\n",
    "    Set the start time attribute as a dataset variable.\n",
    "\n",
    "    Parameters\n",
    "    ----------\n",
    "    ds a dataset corresponding to a Level-2 granule\n",
    "    \"\"\"\n",
    "    datetime = ds.attrs[\"time_coverage_start\"].replace(\"Z\", \"\")\n",
    "    ds[\"time\"] = ((), np.datetime64(datetime, \"ns\"))\n",
    "    ds = ds.set_coords(\"time\")\n",
    "    return ds\n",
    "\n",
    "def grid_match(path, instr=\"OCI\"):\n",
    "    \"\"\"\n",
    "    Interpolate swath data to common grid\n",
    "\n",
    "    Parameters\n",
    "    ----------\n",
    "    path to the dataset \n",
    "    instr the instrument for \n",
    "    \"\"\"\n",
    "    from rasterio.warp import Resampling\n",
    "\n",
    "    # specifiy according to instr\n",
    "    var = \"chlor_a\"\n",
    "    geoloc_group = \"navigation_data\"\n",
    "    if instr == \"SPX\":\n",
    "        var = \"chla\"\n",
    "        geoloc_group = \"geolocation_data\"\n",
    "\n",
    "    # open dataset\n",
    "    with xr.open_datatree(path) as dt:\n",
    "        # Source data & geolocation\n",
    "        da  = dt[\"geophysical_data\"][var]\n",
    "        lon = dt[geoloc_group][\"longitude\"]\n",
    "        lat = dt[geoloc_group][\"latitude\"]\n",
    "\n",
    "        da = da.rio.set_spatial_dims(\"pixels_per_line\", \"number_of_lines\")        \n",
    "        da = da.rio.set_crs(\"epsg:4326\")\n",
    "\n",
    "        # reproject the data to gridded lon-lat data\n",
    "        da_out = da.rio.reproject(\n",
    "            dst_crs='EPSG:4326',\n",
    "            src_geoloc_array=(\n",
    "                lon.values,\n",
    "                lat.values,\n",
    "            ),\n",
    "            resampling=Resampling.nearest\n",
    "        )\n",
    "        # rename the dimensions\n",
    "        da_out = da_out.rename({\"x\": \"longitude\", \"y\": \"latitude\"})\n",
    "        \n",
    "        # interpolate to common grid\n",
    "        da_out = da_out.interp(latitude=tgt_lat, longitude=tgt_lon, method=\"linear\", kwargs={\"fill_value\": np.nan})\n",
    "        return da_out\n"
   ]
  },
  {
   "cell_type": "markdown",
   "id": "400e770c",
   "metadata": {},
   "source": [
    "LOAD AND TRANSFORM: OCI"
   ]
  },
  {
   "cell_type": "code",
   "execution_count": null,
   "id": "7a2f04e2",
   "metadata": {},
   "outputs": [],
   "source": [
    "results = earthaccess.search_data(\n",
    "    short_name=\"PACE_OCI_L2_BGC\",\n",
    "    temporal=tspan,\n",
    "    bounding_box=region\n",
    ")\n",
    "paths = earthaccess.open(results)\n"
   ]
  },
  {
   "cell_type": "code",
   "execution_count": null,
   "id": "27aa2689",
   "metadata": {},
   "outputs": [],
   "source": [
    "kwargs = {\"combine\": \"nested\", \"concat_dim\": \"time\", \"decode_timedelta\" : True}\n",
    "attrs = xr.open_mfdataset(paths, preprocess=time_from_attr, **kwargs)\n",
    "futures = client.map(\n",
    "    grid_match,\n",
    "    paths,\n",
    ")\n",
    "from dask.distributed import progress\n",
    "progress(futures)  # <-- show live progress\n",
    "chla_OCI = xr.combine_nested(client.gather(futures), concat_dim=\"time\")\n",
    "chla_OCI[\"time\"] = attrs[\"time\"]"
   ]
  },
  {
   "cell_type": "markdown",
   "id": "0795f7ab",
   "metadata": {},
   "source": [
    "LOAD AND TRANSFORM: SPEXONE"
   ]
  },
  {
   "cell_type": "code",
   "execution_count": null,
   "id": "0ae81960",
   "metadata": {},
   "outputs": [],
   "source": [
    "results = earthaccess.search_data(\n",
    "    short_name=\"PACE_SPEXONE_L2_AER_RTAPOCEAN\",\n",
    "    temporal=tspan,\n",
    "    bounding_box=region\n",
    ")\n",
    "paths = earthaccess.open(results)"
   ]
  },
  {
   "cell_type": "code",
   "execution_count": null,
   "id": "d975cb26",
   "metadata": {},
   "outputs": [],
   "source": [
    "kwargs = {\"combine\": \"nested\", \"concat_dim\": \"time\"}\n",
    "attrs = xr.open_mfdataset(paths, preprocess=time_from_attr, **kwargs)\n",
    "\n",
    "futures = client.map(\n",
    "    grid_match,\n",
    "    paths,\n",
    "    instr=\"SPX\"\n",
    ")\n",
    "chla_SPX = xr.combine_nested(client.gather(futures), concat_dim=\"time\")\n",
    "chla_SPX[\"time\"] = attrs[\"time\"]\n"
   ]
  },
  {
   "cell_type": "markdown",
   "id": "a59a3521",
   "metadata": {},
   "source": [
    "COMPUTE"
   ]
  },
  {
   "cell_type": "code",
   "execution_count": null,
   "id": "8f32f6e3",
   "metadata": {},
   "outputs": [],
   "source": [
    "diff = (\n",
    "    chla_OCI.resample(time=\"3H\").mean()\n",
    "    - chla_SPX.resample(time=\"3H\").mean()\n",
    ").mean(\"time\")\n"
   ]
  },
  {
   "cell_type": "markdown",
   "id": "5f387330",
   "metadata": {},
   "source": [
    "PLOT"
   ]
  },
  {
   "cell_type": "code",
   "execution_count": null,
   "id": "1a63f70a",
   "metadata": {},
   "outputs": [],
   "source": [
    "\n",
    "# Set up plot with projection\n",
    "fig, ax = plt.subplots(\n",
    "    subplot_kw={'projection': ccrs.PlateCarree()},\n",
    "    figsize=(10, 6)\n",
    ")\n",
    "\n",
    "# Plot data\n",
    "im = diff.plot.imshow(\n",
    "    ax=ax,\n",
    "    transform=ccrs.PlateCarree(),  # needed so data is placed correctly\n",
    "    robust=True,\n",
    "    cmap=\"viridis\"                 # choose colormap if you like\n",
    ")\n",
    "\n",
    "# Add coastlines and features\n",
    "ax.coastlines(resolution=\"10m\", color=\"black\", linewidth=1)\n",
    "ax.add_feature(cfeature.BORDERS, linestyle=\":\")\n",
    "ax.add_feature(cfeature.LAND, facecolor=\"lightgray\")\n",
    "ax.add_feature(cfeature.OCEAN, facecolor=\"lightblue\")\n",
    "\n",
    "# Optional: gridlines\n",
    "gl = ax.gridlines(draw_labels=True, linestyle=\"--\")\n",
    "gl.top_labels = False\n",
    "gl.right_labels = False\n",
    "\n",
    "plt.title(\"3-hour mean difference: OCI - SPX\")\n",
    "plt.show()"
   ]
  }
 ],
 "metadata": {
  "kernelspec": {
   "display_name": "Python 3 (ipykernel)",
   "language": "python",
   "name": "python3"
  }
 },
 "nbformat": 4,
 "nbformat_minor": 5
}
