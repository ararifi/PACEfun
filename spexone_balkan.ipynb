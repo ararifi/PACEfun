{
 "cells": [
  {
   "cell_type": "code",
   "execution_count": null,
   "metadata": {},
   "outputs": [
    {
     "data": {
      "text/plain": [
       "<module 'helper' from '/home/jovyan/PACEfun/helper.py'>"
      ]
     },
     "execution_count": 9,
     "metadata": {},
     "output_type": "execute_result"
    }
   ],
   "source": [
    "import cartopy.crs as ccrs\n",
    "import cartopy.feature as cfeature\n",
    "import earthaccess\n",
    "import matplotlib.pyplot as plt\n",
    "import numpy as np\n",
    "import xarray as xr\n",
    "import pandas as pd\n",
    "from sklearn.cluster import DBSCAN\n",
    "from sklearn.metrics.pairwise import haversine_distances\n",
    "import sys\n",
    "sys.path.append(\"/home/jovyan/PACEfun\")\n",
    "import helper\n",
    "from dask.distributed import Client\n",
    "import importlib, helper; importlib.reload(helper)\n",
    "\n",
    "# TODO: INSTEAD OF LOADING WACH REGION UNIQUELY LOAD ONE AT ONCE AND COLLOCATE AND SELECT\n",
    "\n"
   ]
  },
  {
   "cell_type": "code",
   "execution_count": null,
   "metadata": {},
   "outputs": [
    {
     "name": "stderr",
     "output_type": "stream",
     "text": [
      "2025-09-29 19:43:37,278 - distributed.scheduler - WARNING - Removing worker 'tcp://127.0.0.1:35891' caused the cluster to lose already computed task(s), which will be recomputed elsewhere: {'grid_match-bd2677cc4d9e48396078bcb1e6613158', 'grid_match-41843372701f6532e9048166f434dd71', 'grid_match-1cd47d9f7e09bca2424dc1fa93fa9626', 'grid_match-d4801bf7b4095f6831b4a24e41140df1', 'grid_match-5e4b4b42e065978ee5045cf9f5d5f72f', 'grid_match-d468d52c010a344522582805b7d029f6', 'grid_match-f586224d2cae69b63c60663fded662de', 'grid_match-922151d1e38e554b860deda198a685d2', 'grid_match-0fcb59adef1387966ab65aa1a4b76913', 'grid_match-229d7ee79d5c4df3edf6d7a587dea6b2', 'grid_match-797e1fcc2c6323fa95013551f36ebdd6', 'grid_match-cf7ecb5dbd2f663f97f9c37790547b72', 'grid_match-e58dd3033215c964b8e732f33d20f20d', 'grid_match-b00b9a3c0167585db96a7fd2b273f5b3', 'grid_match-d12c5bd465c71d48c410207ccc225ff8', 'grid_match-973fd83fbb01cb152fa2661593c7a5ae', 'grid_match-34dde162eea3faaf5d40c607ee96c3d7', 'grid_match-a25b6c83de824cb71fe6eb3743877c68', 'grid_match-b9ddc0b4b6515de5a255860d2f9344b6', 'grid_match-b8f82d1e8dbe3f3ab85491b676fb35a4', 'grid_match-61a3904008f94f9232cbf7359942c946', 'grid_match-7ebb43789c66b898399585229fad3b95', 'grid_match-57115c28557d728f71b84b92db85ce38', 'grid_match-d89c1602b5ef0849316567e0e2c1a1d8', 'grid_match-094b54181fe0586da7e40a5058e8beef', 'grid_match-9a34a2cee453ea193cc3003226b19bf8', 'grid_match-b324962f2f5f4385cbdb4f1122ad9669', 'grid_match-0a337c350a1c86d1a434d93d0a2f525e'} (stimulus_id='handle-worker-cleanup-1759175017.2777746')\n",
      "2025-09-29 19:43:37,289 - distributed.scheduler - WARNING - Removing worker 'tcp://127.0.0.1:36673' caused the cluster to lose already computed task(s), which will be recomputed elsewhere: {'grid_match-ee83fb29211667173482d0485ca76b48', 'grid_match-4dfaa2729a5aa983400ccc0aa7b19a81', 'grid_match-2c8a205fe792245e9601598d6834cada', 'grid_match-8ae1ccd4f6bedcbb3ab3305e332d2edc', 'grid_match-32c2b6d8af28af8770cc15b8267d2c89', 'grid_match-e4d4cbfe4630ca702995e97a35ae9ccd', 'grid_match-cac15dd37ee0a906f30d50d99637f7f1', 'grid_match-17aefbc4b75d7b045ce7701bf91eec19', 'grid_match-8e5a38602e8ad7594c8a1cf64d69119b', 'grid_match-dd4c3e604a012402d3726967f10958cb', 'grid_match-1f96917ede487ff4fd05456b7f671986', 'grid_match-97664aba17c988a15d7a6a9189465b58', 'grid_match-754d36fd3206aed5e38996c53d5f989e', 'grid_match-d614090e64319edadd301c4898ed9d37', 'grid_match-bf82940a4bd04db6c0f28ab2cfca45c6', 'grid_match-05f264af59e16955a7bcb5e6f1a49211', 'grid_match-de94097835b1a4bd1905b5bceff02b94', 'grid_match-52582b9602f2e1394753b8716b5134d3', 'grid_match-f1b929e10abc73bdf5ecba54de3ccc9c', 'grid_match-d971954f4699439a3f9399891f6359eb', 'grid_match-5a922c869b47503d4107e315bf7d3324', 'grid_match-ae8c48f9bcd3789b8b500cfe5cff3452', 'grid_match-8badc627eca3a4ca9a824b0e9f022dfa', 'grid_match-a5c4cab196ec003062023e1c604787fc', 'grid_match-b13716b0d0c6387407237de7df1d12a5', 'grid_match-dac23236b815904d198b31c125dd26b9', 'grid_match-cce86495c8a984e915544043da42dc97', 'grid_match-3b8be229fc14fa11fc181da62d2dee92'} (stimulus_id='handle-worker-cleanup-1759175017.2889972')\n",
      "2025-09-29 19:43:37,293 - distributed.scheduler - WARNING - Removing worker 'tcp://127.0.0.1:36111' caused the cluster to lose already computed task(s), which will be recomputed elsewhere: {'grid_match-804757fec28611f01a6051d73b49cebf', 'grid_match-0274d31e31d66d1fdb11ae99adf26cb7', 'grid_match-5b84ddbd1e756145b2ced3bc66ac94d1', 'grid_match-938343ec54684694f1f52ef78e6a5b9b', 'grid_match-f1bb5d82a433b748009b25b5c481087b', 'grid_match-8e98c998b948aef74430074d3ff32988', 'grid_match-29ebf3f3aa48ea7e5d9760a3a584d216', 'grid_match-0e8c8790a6410d41bfab9515a401d215', 'grid_match-3af371a8c73cf3d4008a3663f37cdfc7', 'grid_match-11b13494f4fd4d4b97dd897e1cd96223', 'grid_match-b19e5deb46974e178fb73814bc1252f7', 'grid_match-fafa93a306137e8813dd424203c9a4af', 'grid_match-02d888fe2a6084b1f72b9fc56e7c65e1', 'grid_match-7ed3c50c5c7c57ee5d559133ba7e2640', 'grid_match-f3a0b810fbb949fea3259d570d52f87f', 'grid_match-e225ccb861bb40e401205fe72e51e5be', 'grid_match-bb8c55ce0e8f40876377df53ce60f34e', 'grid_match-7047afa8f68405eeafbd2f75a1599320', 'grid_match-b7fb0914afa6e169446c787b3b1afda4', 'grid_match-ff3d999447a164183f1314c059d9d80d', 'grid_match-e0b56282e683a3210fff3bb49b669cdf', 'grid_match-f66af9cc032d0606ce5c6539f06e3fad', 'grid_match-0dbee5e4036c298f14a7d34024ee8e63', 'grid_match-e88265cf1adb778a180a44c4d88b7fad', 'grid_match-3d706f78155bdfe2ef0548626f8089ea', 'grid_match-7311231ffea1e1e79e333349910fad2c', 'grid_match-69e584c996e1cec32d6da5bf0c61be08'} (stimulus_id='handle-worker-cleanup-1759175017.293622')\n",
      "2025-09-29 19:43:37,313 - distributed.scheduler - WARNING - Removing worker 'tcp://127.0.0.1:43053' caused the cluster to lose already computed task(s), which will be recomputed elsewhere: {'grid_match-19a5dc09bcc76cf401e6b704a000521d', 'grid_match-091e9cf6a7681cc49b81b7af9dd94ac2', 'grid_match-6cf128655fb89f1bbced1b42b7ab83d2', 'grid_match-c93c0bfb5241ce6a13c43df87333bc1a', 'grid_match-e916a7609e30b0cca5151b498f133f71', 'grid_match-9967e4ffafa45549548dfef50701a10c', 'grid_match-f443492a074cc0290dd076b0095968e6', 'grid_match-1ce03505efd18d4ca396ebe4ec40c549', 'grid_match-9a8ae45ee8258ab3c63199de18f1cc21', 'grid_match-28ea9ec656aef5798a0febe606ddf53b', 'grid_match-b2c0359478a0cdc42152746d8c45fe34', 'grid_match-e4842df15056fd9626659cbb087b424b', 'grid_match-bd5b511cb028cda615bdd430fcb08e9a', 'grid_match-bd51f7e18adc3e04f00a416a85482582', 'grid_match-20bc0241a7e5043f8acab1fdc798c50c', 'grid_match-30dba6d435fea9e4759cf0dd069e6ece', 'grid_match-b8ce57875648f8cdd583c1f199b1c6b5', 'grid_match-81e2e51c070a1a4b843f15663fa9e5a2', 'grid_match-155c10aa3575b4f949c5cd06a1650134', 'grid_match-58d009ca00c18ed0fc0c5973a1d7a4f4', 'grid_match-1fe86520cb577b124b07e2f5087d8def', 'grid_match-3473c9c6ddd67fad110cc57a59e3a47d', 'grid_match-b18166c90c18f06c0d4dafdcac68bbea', 'grid_match-c0f788987584a13ef090b2263149edb7', 'grid_match-caccddd619a41e56f21a3c5194f9c7d8', 'grid_match-43319342b18c872cc906867c04e81b22', 'grid_match-38fc719985fd9447ec00dedbcab2b1df'} (stimulus_id='handle-worker-cleanup-1759175017.313349')\n",
      "2025-09-29 19:43:56,322 - distributed.nanny - WARNING - Worker process still alive after 4.0 seconds, killing\n",
      "2025-09-29 19:43:56,323 - distributed.nanny - WARNING - Worker process still alive after 4.0 seconds, killing\n",
      "2025-09-29 19:43:56,324 - distributed.nanny - WARNING - Worker process still alive after 4.0 seconds, killing\n"
     ]
    }
   ],
   "source": [
    "client = Client()\n",
    "auth = earthaccess.login(\"login.netrc\")\n"
   ]
  },
  {
   "cell_type": "code",
   "execution_count": 16,
   "metadata": {},
   "outputs": [
    {
     "name": "stdout",
     "output_type": "stream",
     "text": [
      "Clustered Coal Plants:\n",
      "\n",
      "Cluster 0:\n",
      "Mean Coordinates: Latitude = 40.401946, Longitude = 21.856229\n",
      "- Agios Dimitrios power station (Greece) at (40.394185, 21.924886)\n",
      "- Ptolemaïda power station (Greece) at (40.409707, 21.787573)\n",
      "\n",
      "Cluster 1:\n",
      "Mean Coordinates: Latitude = 44.575826, Longitude = 20.225978\n",
      "- Nikola Tesla power station (Serbia) at (44.671341, 20.158418)\n",
      "- Kolubara A power station (Serbia) at (44.480312, 20.293538)\n",
      "\n",
      "Cluster 2:\n",
      "Mean Coordinates: Latitude = 42.446471, Longitude = 23.055765\n",
      "- Republika power station (Bulgaria) at (42.607124, 23.078699)\n",
      "- Bobov Dol power station (Bulgaria) at (42.285818, 23.03283)\n",
      "\n",
      "Cluster 3:\n",
      "Mean Coordinates: Latitude = 42.684787, Longitude = 21.070962\n",
      "- Kosovo A power station (Kosovo) at (42.676454, 21.085922)\n",
      "- Kosovo B power station (Kosovo) at (42.69312, 21.056002)\n",
      "\n",
      "Cluster 4:\n",
      "Mean Coordinates: Latitude = 41.058320, Longitude = 21.484266\n",
      "- Bitola power station (North Macedonia) at (41.05832, 21.484266)\n",
      "\n",
      "Cluster 5:\n",
      "Mean Coordinates: Latitude = 44.602243, Longitude = 18.787479\n",
      "- Tuzla Thermal Power Plant (Bosnia and Herzegovina) at (44.52104, 18.606443)\n",
      "- Ugljevik power station (Bosnia and Herzegovina) at (44.683446, 18.968516)\n",
      "\n",
      "Cluster 6:\n",
      "Mean Coordinates: Latitude = 44.089633, Longitude = 18.113865\n",
      "- Kakanj Thermal Power Plant (Bosnia and Herzegovina) at (44.089633, 18.113865)\n",
      "\n",
      "Cluster 7:\n",
      "Mean Coordinates: Latitude = 43.172137, Longitude = 18.511555\n",
      "- Gacko Thermal Power Plant (Bosnia and Herzegovina) at (43.172137, 18.511555)\n",
      "\n",
      "Cluster 8:\n",
      "Mean Coordinates: Latitude = 42.185458, Longitude = 26.015139\n",
      "- Maritsa Iztok-3 power station (Bulgaria) at (42.14502, 26.003009)\n",
      "- Maritsa Iztok-1 power station (Bulgaria) at (42.1573, 25.9084)\n",
      "- Maritsa Iztok-2 power station (Bulgaria) at (42.254053, 26.134007)\n",
      "\n",
      "Cluster 9:\n",
      "Mean Coordinates: Latitude = 44.723674, Longitude = 21.171605\n",
      "- Kostolac power station (Serbia) at (44.723674, 21.171605)\n",
      "\n",
      "Cluster 10:\n",
      "Mean Coordinates: Latitude = 44.641098, Longitude = 23.451097\n",
      "- Rovinari power station (Romania) at (44.910633, 23.134754)\n",
      "- Craiova II power station (Romania) at (44.34294, 23.81076)\n",
      "- Turceni power station (Romania) at (44.669722, 23.407778)\n",
      "\n",
      "Cluster 11:\n",
      "Mean Coordinates: Latitude = 41.582000, Longitude = 21.000000\n",
      "- Oslomej power station (North Macedonia) at (41.582, 21.0)\n",
      "\n",
      "Cluster 12:\n",
      "Mean Coordinates: Latitude = 46.372300, Longitude = 15.053400\n",
      "- Sostanj power station (Slovenia) at (46.3723, 15.0534)\n",
      "\n",
      "Cluster 13:\n",
      "Mean Coordinates: Latitude = 45.136764, Longitude = 14.162702\n",
      "- Plomin power station (Croatia) at (45.136764, 14.162702)\n",
      "\n",
      "Cluster 14:\n",
      "Mean Coordinates: Latitude = 37.417449, Longitude = 22.107892\n",
      "- Megalopoli power station (Greece) at (37.417449, 22.107892)\n"
     ]
    }
   ],
   "source": [
    "# --- TIME ---\n",
    "\n",
    "tspan = (\"2024-03-01 00:00\", \"2025-09-01 00:00\") \n",
    "\n",
    "# --- REGION ---\n",
    "df = pd.read_csv(\"/home/jovyan/PACEfun/balkan_plants.csv\")\n",
    "\n",
    "# Extract latitude and longitude\n",
    "coords = df[['Latitude', 'Longitude']].values\n",
    "\n",
    "# Convert to radians for haversine\n",
    "coords_rad = np.radians(coords)\n",
    "\n",
    "# Compute the distance matrix using haversine\n",
    "dist_matrix = haversine_distances(coords_rad)\n",
    "\n",
    "# Define epsilon in radians (e.g., ~100 km)\n",
    "earth_radius_km = 6371\n",
    "max_distance_km = 50\n",
    "epsilon = max_distance_km / earth_radius_km\n",
    "\n",
    "# Apply DBSCAN with precomputed distances\n",
    "db = DBSCAN(eps=epsilon, min_samples=1, metric='precomputed')\n",
    "clusters = db.fit_predict(dist_matrix)\n",
    "\n",
    "# Add cluster labels to the DataFrame\n",
    "df['Cluster'] = clusters\n",
    "\n",
    "cluster_means = df[df['Cluster'] != -1].groupby('Cluster')[['Latitude', 'Longitude']].mean().reset_index()\n",
    "\n",
    "# Group by cluster and print the results\n",
    "print(\"Clustered Coal Plants:\")\n",
    "for cluster_id in sorted(df['Cluster'].unique()):\n",
    "    if cluster_id == -1:\n",
    "        print(\"\\nNoise (unclustered):\")\n",
    "    else:\n",
    "        print(f\"\\nCluster {cluster_id}:\")\n",
    "        # Get mean coordinates for this cluster\n",
    "        mean_coords = cluster_means[cluster_means['Cluster'] == cluster_id]\n",
    "        if not mean_coords.empty:\n",
    "            mean_lat = mean_coords['Latitude'].iloc[0]\n",
    "            mean_lon = mean_coords['Longitude'].iloc[0]\n",
    "            print(f\"Mean Coordinates: Latitude = {mean_lat:.6f}, Longitude = {mean_lon:.6f}\")\n",
    "    cluster_df = df[df['Cluster'] == cluster_id]\n",
    "    for _, row in cluster_df.iterrows():\n",
    "        print(f\"- {row['Name']} ({row['Country']}) at ({row['Latitude']}, {row['Longitude']})\")\n"
   ]
  },
  {
   "cell_type": "code",
   "execution_count": null,
   "metadata": {},
   "outputs": [
    {
     "name": "stdout",
     "output_type": "stream",
     "text": [
      "\n",
      "Cluster 0:\n",
      "Mean Coordinates: Latitude = 40.401946, Longitude = 21.856229\n"
     ]
    },
    {
     "data": {
      "application/vnd.jupyter.widget-view+json": {
       "model_id": "00060cc48c684513bebdc14733b88434",
       "version_major": 2,
       "version_minor": 0
      },
      "text/plain": [
       "QUEUEING TASKS | :   0%|          | 0/87 [00:00<?, ?it/s]"
      ]
     },
     "metadata": {},
     "output_type": "display_data"
    },
    {
     "data": {
      "application/vnd.jupyter.widget-view+json": {
       "model_id": "7383d45f03504bd881a20dc30dd4d394",
       "version_major": 2,
       "version_minor": 0
      },
      "text/plain": [
       "PROCESSING TASKS | :   0%|          | 0/87 [00:00<?, ?it/s]"
      ]
     },
     "metadata": {},
     "output_type": "display_data"
    },
    {
     "data": {
      "application/vnd.jupyter.widget-view+json": {
       "model_id": "167554c1f44341c4bfec0d161df3a50f",
       "version_major": 2,
       "version_minor": 0
      },
      "text/plain": [
       "COLLECTING RESULTS | :   0%|          | 0/87 [00:00<?, ?it/s]"
      ]
     },
     "metadata": {},
     "output_type": "display_data"
    },
    {
     "name": "stderr",
     "output_type": "stream",
     "text": [
      "/srv/conda/envs/notebook/lib/python3.11/site-packages/numpy/lib/_nanfunctions_impl.py:2019: RuntimeWarning: Degrees of freedom <= 0 for slice.\n",
      "  var = nanvar(a, axis=axis, dtype=dtype, out=out, ddof=ddof,\n",
      "/srv/conda/envs/notebook/lib/python3.11/site-packages/numpy/lib/_nanfunctions_impl.py:2019: RuntimeWarning: Degrees of freedom <= 0 for slice.\n",
      "  var = nanvar(a, axis=axis, dtype=dtype, out=out, ddof=ddof,\n",
      "/srv/conda/envs/notebook/lib/python3.11/site-packages/numpy/lib/_nanfunctions_impl.py:2019: RuntimeWarning: Degrees of freedom <= 0 for slice.\n",
      "  var = nanvar(a, axis=axis, dtype=dtype, out=out, ddof=ddof,\n",
      "/srv/conda/envs/notebook/lib/python3.11/site-packages/numpy/lib/_nanfunctions_impl.py:2019: RuntimeWarning: Degrees of freedom <= 0 for slice.\n",
      "  var = nanvar(a, axis=axis, dtype=dtype, out=out, ddof=ddof,\n",
      "/srv/conda/envs/notebook/lib/python3.11/site-packages/numpy/lib/_nanfunctions_impl.py:2019: RuntimeWarning: Degrees of freedom <= 0 for slice.\n",
      "  var = nanvar(a, axis=axis, dtype=dtype, out=out, ddof=ddof,\n",
      "/srv/conda/envs/notebook/lib/python3.11/site-packages/numpy/lib/_nanfunctions_impl.py:2019: RuntimeWarning: Degrees of freedom <= 0 for slice.\n",
      "  var = nanvar(a, axis=axis, dtype=dtype, out=out, ddof=ddof,\n",
      "/srv/conda/envs/notebook/lib/python3.11/site-packages/numpy/lib/_nanfunctions_impl.py:2019: RuntimeWarning: Degrees of freedom <= 0 for slice.\n",
      "  var = nanvar(a, axis=axis, dtype=dtype, out=out, ddof=ddof,\n",
      "/srv/conda/envs/notebook/lib/python3.11/site-packages/numpy/lib/_nanfunctions_impl.py:2019: RuntimeWarning: Degrees of freedom <= 0 for slice.\n",
      "  var = nanvar(a, axis=axis, dtype=dtype, out=out, ddof=ddof,\n"
     ]
    },
    {
     "name": "stdout",
     "output_type": "stream",
     "text": [
      "\n",
      "Cluster 1:\n",
      "Mean Coordinates: Latitude = 44.575826, Longitude = 20.225978\n"
     ]
    },
    {
     "data": {
      "application/vnd.jupyter.widget-view+json": {
       "model_id": "95c44d569b61495b91b2a96458472e5a",
       "version_major": 2,
       "version_minor": 0
      },
      "text/plain": [
       "QUEUEING TASKS | :   0%|          | 0/90 [00:00<?, ?it/s]"
      ]
     },
     "metadata": {},
     "output_type": "display_data"
    },
    {
     "data": {
      "application/vnd.jupyter.widget-view+json": {
       "model_id": "ccc28e10c2504cceb15b51b896a94a3e",
       "version_major": 2,
       "version_minor": 0
      },
      "text/plain": [
       "PROCESSING TASKS | :   0%|          | 0/90 [00:00<?, ?it/s]"
      ]
     },
     "metadata": {},
     "output_type": "display_data"
    },
    {
     "data": {
      "application/vnd.jupyter.widget-view+json": {
       "model_id": "66fbe6a4107840b8993796084436ce19",
       "version_major": 2,
       "version_minor": 0
      },
      "text/plain": [
       "COLLECTING RESULTS | :   0%|          | 0/90 [00:00<?, ?it/s]"
      ]
     },
     "metadata": {},
     "output_type": "display_data"
    },
    {
     "name": "stderr",
     "output_type": "stream",
     "text": [
      "2025-09-29 19:43:37,273 - distributed.worker.state_machine - WARNING - Async instruction for <Task cancelled name=\"execute('grid_match-e55e98df5b12af9c55ded88063d2201d')\" coro=<Worker.execute() done, defined at /srv/conda/envs/notebook/lib/python3.11/site-packages/distributed/worker_state_machine.py:3607>> ended with CancelledError\n",
      "2025-09-29 19:43:37,275 - distributed.worker.state_machine - WARNING - Async instruction for <Task cancelled name=\"execute('grid_match-03f49c1a0d432eb8bca23490b7804cd4')\" coro=<Worker.execute() done, defined at /srv/conda/envs/notebook/lib/python3.11/site-packages/distributed/worker_state_machine.py:3607>> ended with CancelledError\n",
      "2025-09-29 19:43:37,276 - distributed.worker.state_machine - WARNING - Async instruction for <Task cancelled name=\"execute('grid_match-1f6fa23c5af8b90a375356ec09b915c8')\" coro=<Worker.execute() done, defined at /srv/conda/envs/notebook/lib/python3.11/site-packages/distributed/worker_state_machine.py:3607>> ended with CancelledError\n",
      "2025-09-29 19:43:37,285 - distributed.worker.state_machine - WARNING - Async instruction for <Task cancelled name=\"execute('grid_match-9277dd4d7706d672c5d77c10aff5fa52')\" coro=<Worker.execute() done, defined at /srv/conda/envs/notebook/lib/python3.11/site-packages/distributed/worker_state_machine.py:3607>> ended with CancelledError\n"
     ]
    },
    {
     "ename": "KeyboardInterrupt",
     "evalue": "",
     "output_type": "error",
     "traceback": [
      "\u001b[0;31m---------------------------------------------------------------------------\u001b[0m",
      "\u001b[0;31mKeyboardInterrupt\u001b[0m                         Traceback (most recent call last)",
      "Cell \u001b[0;32mIn[22], line 90\u001b[0m\n\u001b[1;32m     80\u001b[0m attrs_ae \u001b[38;5;241m=\u001b[39m xr\u001b[38;5;241m.\u001b[39mopen_mfdataset(paths_spx, preprocess\u001b[38;5;241m=\u001b[39mhelper\u001b[38;5;241m.\u001b[39mtime_from_attr, \u001b[38;5;241m*\u001b[39m\u001b[38;5;241m*\u001b[39mkwargs_ae)\n\u001b[1;32m     81\u001b[0m futures_ae \u001b[38;5;241m=\u001b[39m client\u001b[38;5;241m.\u001b[39mmap(\n\u001b[1;32m     82\u001b[0m     helper\u001b[38;5;241m.\u001b[39mgrid_match,\n\u001b[1;32m     83\u001b[0m     paths_spx,\n\u001b[0;32m   (...)\u001b[0m\n\u001b[1;32m     88\u001b[0m     wv_idx\u001b[38;5;241m=\u001b[39m\u001b[38;5;28;01mNone\u001b[39;00m\n\u001b[1;32m     89\u001b[0m )\n\u001b[0;32m---> 90\u001b[0m da_spx_ae \u001b[38;5;241m=\u001b[39m xr\u001b[38;5;241m.\u001b[39mcombine_nested(\u001b[43mclient\u001b[49m\u001b[38;5;241;43m.\u001b[39;49m\u001b[43mgather\u001b[49m\u001b[43m(\u001b[49m\u001b[43mfutures_ae\u001b[49m\u001b[43m)\u001b[49m, concat_dim\u001b[38;5;241m=\u001b[39m\u001b[38;5;124m\"\u001b[39m\u001b[38;5;124mtime\u001b[39m\u001b[38;5;124m\"\u001b[39m)\n\u001b[1;32m     91\u001b[0m da_spx_ae[\u001b[38;5;124m\"\u001b[39m\u001b[38;5;124mtime\u001b[39m\u001b[38;5;124m\"\u001b[39m] \u001b[38;5;241m=\u001b[39m attrs_ae[\u001b[38;5;124m\"\u001b[39m\u001b[38;5;124mtime\u001b[39m\u001b[38;5;124m\"\u001b[39m]\n\u001b[1;32m     94\u001b[0m \u001b[38;5;66;03m# Keep your original convention\u001b[39;00m\n",
      "File \u001b[0;32m/srv/conda/envs/notebook/lib/python3.11/site-packages/distributed/client.py:2556\u001b[0m, in \u001b[0;36mClient.gather\u001b[0;34m(self, futures, errors, direct, asynchronous)\u001b[0m\n\u001b[1;32m   2553\u001b[0m     local_worker \u001b[38;5;241m=\u001b[39m \u001b[38;5;28;01mNone\u001b[39;00m\n\u001b[1;32m   2555\u001b[0m \u001b[38;5;28;01mwith\u001b[39;00m shorten_traceback():\n\u001b[0;32m-> 2556\u001b[0m     \u001b[38;5;28;01mreturn\u001b[39;00m \u001b[38;5;28;43mself\u001b[39;49m\u001b[38;5;241;43m.\u001b[39;49m\u001b[43msync\u001b[49m\u001b[43m(\u001b[49m\n\u001b[1;32m   2557\u001b[0m \u001b[43m        \u001b[49m\u001b[38;5;28;43mself\u001b[39;49m\u001b[38;5;241;43m.\u001b[39;49m\u001b[43m_gather\u001b[49m\u001b[43m,\u001b[49m\n\u001b[1;32m   2558\u001b[0m \u001b[43m        \u001b[49m\u001b[43mfutures\u001b[49m\u001b[43m,\u001b[49m\n\u001b[1;32m   2559\u001b[0m \u001b[43m        \u001b[49m\u001b[43merrors\u001b[49m\u001b[38;5;241;43m=\u001b[39;49m\u001b[43merrors\u001b[49m\u001b[43m,\u001b[49m\n\u001b[1;32m   2560\u001b[0m \u001b[43m        \u001b[49m\u001b[43mdirect\u001b[49m\u001b[38;5;241;43m=\u001b[39;49m\u001b[43mdirect\u001b[49m\u001b[43m,\u001b[49m\n\u001b[1;32m   2561\u001b[0m \u001b[43m        \u001b[49m\u001b[43mlocal_worker\u001b[49m\u001b[38;5;241;43m=\u001b[39;49m\u001b[43mlocal_worker\u001b[49m\u001b[43m,\u001b[49m\n\u001b[1;32m   2562\u001b[0m \u001b[43m        \u001b[49m\u001b[43masynchronous\u001b[49m\u001b[38;5;241;43m=\u001b[39;49m\u001b[43masynchronous\u001b[49m\u001b[43m,\u001b[49m\n\u001b[1;32m   2563\u001b[0m \u001b[43m    \u001b[49m\u001b[43m)\u001b[49m\n",
      "File \u001b[0;32m/srv/conda/envs/notebook/lib/python3.11/threading.py:629\u001b[0m, in \u001b[0;36mEvent.wait\u001b[0;34m(self, timeout)\u001b[0m\n\u001b[1;32m    627\u001b[0m signaled \u001b[38;5;241m=\u001b[39m \u001b[38;5;28mself\u001b[39m\u001b[38;5;241m.\u001b[39m_flag\n\u001b[1;32m    628\u001b[0m \u001b[38;5;28;01mif\u001b[39;00m \u001b[38;5;129;01mnot\u001b[39;00m signaled:\n\u001b[0;32m--> 629\u001b[0m     signaled \u001b[38;5;241m=\u001b[39m \u001b[38;5;28;43mself\u001b[39;49m\u001b[38;5;241;43m.\u001b[39;49m\u001b[43m_cond\u001b[49m\u001b[38;5;241;43m.\u001b[39;49m\u001b[43mwait\u001b[49m\u001b[43m(\u001b[49m\u001b[43mtimeout\u001b[49m\u001b[43m)\u001b[49m\n\u001b[1;32m    630\u001b[0m \u001b[38;5;28;01mreturn\u001b[39;00m signaled\n",
      "File \u001b[0;32m/srv/conda/envs/notebook/lib/python3.11/threading.py:331\u001b[0m, in \u001b[0;36mCondition.wait\u001b[0;34m(self, timeout)\u001b[0m\n\u001b[1;32m    329\u001b[0m \u001b[38;5;28;01melse\u001b[39;00m:\n\u001b[1;32m    330\u001b[0m     \u001b[38;5;28;01mif\u001b[39;00m timeout \u001b[38;5;241m>\u001b[39m \u001b[38;5;241m0\u001b[39m:\n\u001b[0;32m--> 331\u001b[0m         gotit \u001b[38;5;241m=\u001b[39m \u001b[43mwaiter\u001b[49m\u001b[38;5;241;43m.\u001b[39;49m\u001b[43macquire\u001b[49m\u001b[43m(\u001b[49m\u001b[38;5;28;43;01mTrue\u001b[39;49;00m\u001b[43m,\u001b[49m\u001b[43m \u001b[49m\u001b[43mtimeout\u001b[49m\u001b[43m)\u001b[49m\n\u001b[1;32m    332\u001b[0m     \u001b[38;5;28;01melse\u001b[39;00m:\n\u001b[1;32m    333\u001b[0m         gotit \u001b[38;5;241m=\u001b[39m waiter\u001b[38;5;241m.\u001b[39macquire(\u001b[38;5;28;01mFalse\u001b[39;00m)\n",
      "\u001b[0;31mKeyboardInterrupt\u001b[0m: "
     ]
    },
    {
     "name": "stderr",
     "output_type": "stream",
     "text": [
      "2025-09-29 19:43:40,024 - distributed.nanny - ERROR - Worker process died unexpectedly\n",
      "Process Dask Worker process (from Nanny):\n",
      "Traceback (most recent call last):\n",
      "  File \"/srv/conda/envs/notebook/lib/python3.11/asyncio/runners.py\", line 118, in run\n",
      "    return self._loop.run_until_complete(task)\n",
      "           ^^^^^^^^^^^^^^^^^^^^^^^^^^^^^^^^^^^\n",
      "  File \"/srv/conda/envs/notebook/lib/python3.11/asyncio/base_events.py\", line 654, in run_until_complete\n",
      "    return future.result()\n",
      "           ^^^^^^^^^^^^^^^\n",
      "  File \"/srv/conda/envs/notebook/lib/python3.11/site-packages/distributed/nanny.py\", line 985, in run\n",
      "    await worker.finished()\n",
      "  File \"/srv/conda/envs/notebook/lib/python3.11/site-packages/distributed/core.py\", line 494, in finished\n",
      "    await self._event_finished.wait()\n",
      "  File \"/srv/conda/envs/notebook/lib/python3.11/asyncio/locks.py\", line 213, in wait\n",
      "    await fut\n",
      "asyncio.exceptions.CancelledError\n",
      "\n",
      "During handling of the above exception, another exception occurred:\n",
      "\n",
      "Traceback (most recent call last):\n",
      "  File \"/srv/conda/envs/notebook/lib/python3.11/multiprocessing/process.py\", line 314, in _bootstrap\n",
      "    self.run()\n",
      "  File \"/srv/conda/envs/notebook/lib/python3.11/multiprocessing/process.py\", line 108, in run\n",
      "    self._target(*self._args, **self._kwargs)\n",
      "  File \"/srv/conda/envs/notebook/lib/python3.11/site-packages/distributed/process.py\", line 202, in _run\n",
      "    target(*args, **kwargs)\n",
      "  File \"/srv/conda/envs/notebook/lib/python3.11/site-packages/distributed/nanny.py\", line 1023, in _run\n",
      "    asyncio_run(run(), loop_factory=get_loop_factory())\n",
      "  File \"/srv/conda/envs/notebook/lib/python3.11/site-packages/distributed/compatibility.py\", line 204, in asyncio_run\n",
      "    return runner.run(main)\n",
      "           ^^^^^^^^^^^^^^^^\n",
      "  File \"/srv/conda/envs/notebook/lib/python3.11/asyncio/runners.py\", line 123, in run\n",
      "    raise KeyboardInterrupt()\n",
      "KeyboardInterrupt\n",
      "Process Dask Worker process (from Nanny):\n",
      "Traceback (most recent call last):\n",
      "  File \"/srv/conda/envs/notebook/lib/python3.11/asyncio/runners.py\", line 118, in run\n",
      "    return self._loop.run_until_complete(task)\n",
      "           ^^^^^^^^^^^^^^^^^^^^^^^^^^^^^^^^^^^\n",
      "  File \"/srv/conda/envs/notebook/lib/python3.11/asyncio/base_events.py\", line 654, in run_until_complete\n",
      "    return future.result()\n",
      "           ^^^^^^^^^^^^^^^\n",
      "  File \"/srv/conda/envs/notebook/lib/python3.11/site-packages/distributed/nanny.py\", line 985, in run\n",
      "    await worker.finished()\n",
      "  File \"/srv/conda/envs/notebook/lib/python3.11/site-packages/distributed/core.py\", line 494, in finished\n",
      "    await self._event_finished.wait()\n",
      "  File \"/srv/conda/envs/notebook/lib/python3.11/asyncio/locks.py\", line 213, in wait\n",
      "    await fut\n",
      "asyncio.exceptions.CancelledError\n",
      "\n",
      "During handling of the above exception, another exception occurred:\n",
      "\n",
      "Traceback (most recent call last):\n",
      "  File \"/srv/conda/envs/notebook/lib/python3.11/multiprocessing/process.py\", line 314, in _bootstrap\n",
      "    self.run()\n",
      "  File \"/srv/conda/envs/notebook/lib/python3.11/multiprocessing/process.py\", line 108, in run\n",
      "    self._target(*self._args, **self._kwargs)\n",
      "  File \"/srv/conda/envs/notebook/lib/python3.11/site-packages/distributed/process.py\", line 202, in _run\n",
      "    target(*args, **kwargs)\n",
      "  File \"/srv/conda/envs/notebook/lib/python3.11/site-packages/distributed/nanny.py\", line 1023, in _run\n",
      "    asyncio_run(run(), loop_factory=get_loop_factory())\n",
      "  File \"/srv/conda/envs/notebook/lib/python3.11/site-packages/distributed/compatibility.py\", line 204, in asyncio_run\n",
      "    return runner.run(main)\n",
      "           ^^^^^^^^^^^^^^^^\n",
      "  File \"/srv/conda/envs/notebook/lib/python3.11/asyncio/runners.py\", line 123, in run\n",
      "    raise KeyboardInterrupt()\n",
      "KeyboardInterrupt\n",
      "Process Dask Worker process (from Nanny):\n",
      "Traceback (most recent call last):\n",
      "  File \"/srv/conda/envs/notebook/lib/python3.11/asyncio/runners.py\", line 118, in run\n",
      "    return self._loop.run_until_complete(task)\n",
      "           ^^^^^^^^^^^^^^^^^^^^^^^^^^^^^^^^^^^\n",
      "  File \"/srv/conda/envs/notebook/lib/python3.11/asyncio/base_events.py\", line 654, in run_until_complete\n",
      "    return future.result()\n",
      "           ^^^^^^^^^^^^^^^\n",
      "  File \"/srv/conda/envs/notebook/lib/python3.11/site-packages/distributed/nanny.py\", line 985, in run\n",
      "    await worker.finished()\n",
      "  File \"/srv/conda/envs/notebook/lib/python3.11/site-packages/distributed/core.py\", line 494, in finished\n",
      "    await self._event_finished.wait()\n",
      "  File \"/srv/conda/envs/notebook/lib/python3.11/asyncio/locks.py\", line 213, in wait\n",
      "    await fut\n",
      "asyncio.exceptions.CancelledError\n",
      "\n",
      "During handling of the above exception, another exception occurred:\n",
      "\n",
      "Traceback (most recent call last):\n",
      "  File \"/srv/conda/envs/notebook/lib/python3.11/multiprocessing/process.py\", line 314, in _bootstrap\n",
      "    self.run()\n",
      "  File \"/srv/conda/envs/notebook/lib/python3.11/multiprocessing/process.py\", line 108, in run\n",
      "    self._target(*self._args, **self._kwargs)\n",
      "  File \"/srv/conda/envs/notebook/lib/python3.11/site-packages/distributed/process.py\", line 202, in _run\n",
      "    target(*args, **kwargs)\n",
      "  File \"/srv/conda/envs/notebook/lib/python3.11/site-packages/distributed/nanny.py\", line 1023, in _run\n",
      "    asyncio_run(run(), loop_factory=get_loop_factory())\n",
      "  File \"/srv/conda/envs/notebook/lib/python3.11/site-packages/distributed/compatibility.py\", line 204, in asyncio_run\n",
      "    return runner.run(main)\n",
      "           ^^^^^^^^^^^^^^^^\n",
      "  File \"/srv/conda/envs/notebook/lib/python3.11/asyncio/runners.py\", line 123, in run\n",
      "    raise KeyboardInterrupt()\n",
      "KeyboardInterrupt\n",
      "Process Dask Worker process (from Nanny):\n",
      "Traceback (most recent call last):\n",
      "  File \"/srv/conda/envs/notebook/lib/python3.11/asyncio/runners.py\", line 118, in run\n",
      "    return self._loop.run_until_complete(task)\n",
      "           ^^^^^^^^^^^^^^^^^^^^^^^^^^^^^^^^^^^\n",
      "  File \"/srv/conda/envs/notebook/lib/python3.11/asyncio/base_events.py\", line 654, in run_until_complete\n",
      "    return future.result()\n",
      "           ^^^^^^^^^^^^^^^\n",
      "  File \"/srv/conda/envs/notebook/lib/python3.11/site-packages/distributed/nanny.py\", line 985, in run\n",
      "    await worker.finished()\n",
      "  File \"/srv/conda/envs/notebook/lib/python3.11/site-packages/distributed/core.py\", line 494, in finished\n",
      "    await self._event_finished.wait()\n",
      "  File \"/srv/conda/envs/notebook/lib/python3.11/asyncio/locks.py\", line 213, in wait\n",
      "    await fut\n",
      "asyncio.exceptions.CancelledError\n",
      "\n",
      "During handling of the above exception, another exception occurred:\n",
      "\n",
      "Traceback (most recent call last):\n",
      "  File \"/srv/conda/envs/notebook/lib/python3.11/multiprocessing/process.py\", line 314, in _bootstrap\n",
      "    self.run()\n",
      "  File \"/srv/conda/envs/notebook/lib/python3.11/multiprocessing/process.py\", line 108, in run\n",
      "    self._target(*self._args, **self._kwargs)\n",
      "  File \"/srv/conda/envs/notebook/lib/python3.11/site-packages/distributed/process.py\", line 202, in _run\n",
      "    target(*args, **kwargs)\n",
      "  File \"/srv/conda/envs/notebook/lib/python3.11/site-packages/distributed/nanny.py\", line 1023, in _run\n",
      "    asyncio_run(run(), loop_factory=get_loop_factory())\n",
      "  File \"/srv/conda/envs/notebook/lib/python3.11/site-packages/distributed/compatibility.py\", line 204, in asyncio_run\n",
      "    return runner.run(main)\n",
      "           ^^^^^^^^^^^^^^^^\n",
      "  File \"/srv/conda/envs/notebook/lib/python3.11/asyncio/runners.py\", line 123, in run\n",
      "    raise KeyboardInterrupt()\n",
      "KeyboardInterrupt\n"
     ]
    }
   ],
   "source": [
    "factors = [2,4,6,12]\n",
    "\n",
    "aod_mean = []\n",
    "aod_std = []\n",
    "ae_mean = []\n",
    "ae_std = []\n",
    "        \n",
    "\n",
    "def area_plot(da, lon_res, lat_res, mid, factor=1):\n",
    "\n",
    "    # L1\n",
    "    lon = da.longitude\n",
    "    lat = da.latitude\n",
    "    '''\n",
    "\n",
    "    da_filtered = da.where( \n",
    "                    ( mid[1] - factor * lat_res < lat ) & ( mid[1] + factor * lat_res > lat ) &\n",
    "                    ( mid[0] - factor * lon_res < lon ) & ( mid[0] + factor * lon_res > lon ),\n",
    "                    drop=True\n",
    "                    )\n",
    "    '''\n",
    "    # L2\n",
    "    radius = factor * lat_res  # radius in degrees (approx)\n",
    "\n",
    "    da_filtered = da.where(\n",
    "        ((lat - mid[1])**2 + (lon - mid[0])**2) < radius**2,\n",
    "        drop=True\n",
    "    )\n",
    "    return da_filtered\n",
    "\n",
    "for _, row in cluster_means.iterrows():\n",
    "    \n",
    "    aod_mean_f = []\n",
    "    aod_std_f = []\n",
    "    ae_mean_f = []\n",
    "    ae_std_f = []\n",
    "        \n",
    "    cluster_id = int(row['Cluster'])\n",
    "    mean_lat = row['Latitude']\n",
    "    mean_lon = row['Longitude']\n",
    "    print(f\"\\nCluster {cluster_id}:\")\n",
    "    print(f\"Mean Coordinates: Latitude = {mean_lat:.6f}, Longitude = {mean_lon:.6f}\")\n",
    "    ext = 1.0\n",
    "    \n",
    "    mid = ( mean_lon, mean_lat )\n",
    "    \n",
    "    region = (mid[0] - ext , mid[1] - ext, mid[0] + ext, mid[1] + ext)\n",
    "    \n",
    "    results_spx = earthaccess.search_data(\n",
    "    short_name=\"PACE_SPEXONE_L2_AER_RTAPLAND\",\n",
    "    cloud_hosted=True,\n",
    "    bounding_box=region,\n",
    "    temporal=tspan,\n",
    "    )\n",
    "    paths_spx = earthaccess.open(results_spx)\n",
    "    \n",
    "    wv = 550\n",
    "    wv_idx = helper.get_wv_idx(paths_spx[0], wv)\n",
    "    crs, shape_tmp, transform_tmp = helper.crs_template(paths_spx[0], \"aot\", wv)\n",
    "    # Select best data set who covers the most region for the study of interest\n",
    "    shape, transform, _ = helper.grid_aligned_subset(region, transform_tmp, shape_tmp)\n",
    "\n",
    "\n",
    "    kwargs = {\"combine\": \"nested\", \"concat_dim\": \"time\"}\n",
    "    attrs = xr.open_mfdataset(paths_spx, preprocess=helper.time_from_attr, **kwargs)\n",
    "    futures = client.map(\n",
    "        helper.grid_match,\n",
    "        paths_spx,\n",
    "        dst_crs=crs,\n",
    "        dst_shape=shape,\n",
    "        dst_transform=transform,\n",
    "        var=\"aot\",\n",
    "        wv_idx=wv_idx\n",
    "    )\n",
    "    da_spx_aod = xr.combine_nested(client.gather(futures), concat_dim=\"time\")\n",
    "    da_spx_aod[\"time\"] = attrs[\"time\"]\n",
    "\n",
    "\n",
    "    kwargs_ae = {\"combine\": \"nested\", \"concat_dim\": \"time\"}\n",
    "    attrs_ae = xr.open_mfdataset(paths_spx, preprocess=helper.time_from_attr, **kwargs_ae)\n",
    "    futures_ae = client.map(\n",
    "        helper.grid_match,\n",
    "        paths_spx,\n",
    "        dst_crs=crs,\n",
    "        dst_shape=shape,\n",
    "        dst_transform=transform,\n",
    "        var=\"angstrom_440_670\",\n",
    "        wv_idx=None\n",
    "    )\n",
    "    da_spx_ae = xr.combine_nested(client.gather(futures_ae), concat_dim=\"time\")\n",
    "    da_spx_ae[\"time\"] = attrs_ae[\"time\"]\n",
    "\n",
    "    \n",
    "    # Keep your original convention\n",
    "    lat_res = np.abs(transform[0])\n",
    "    lon_res = np.abs(transform[4])\n",
    "\n",
    "    for f in factors:\n",
    "        da_f = area_plot(da_spx_aod, lon_res, lat_res, mid, f)\n",
    "\n",
    "        # Spatial mean & std per time step\n",
    "        mean_ts = da_f.mean(dim=[\"longitude\", \"latitude\"]).mean(dim=\"time\").values\n",
    "        std_ts  = da_f.std(dim=[\"longitude\", \"latitude\"]).mean(dim=\"time\").values\n",
    "        \n",
    "        \n",
    "        aod_mean_f.append(mean_ts)\n",
    "        aod_std_f.append(std_ts)\n",
    "        \n",
    "        da_f = area_plot(da_spx_ae, lon_res, lat_res, mid, f)\n",
    "        \n",
    "        # Spatial mean & std per time step\n",
    "        mean_ts = da_f.mean(dim=[\"longitude\", \"latitude\"]).mean(dim=\"time\").values\n",
    "        std_ts  = da_f.std(dim=[\"longitude\", \"latitude\"]).mean(dim=\"time\").values\n",
    "\n",
    "        ae_mean_f.append(mean_ts)\n",
    "        ae_std_f.append(std_ts)\n",
    "\n",
    "    aod_mean.append(aod_mean_f)\n",
    "    aod_std.append(aod_std_f)\n",
    "    ae_mean.append(ae_mean_f)\n",
    "    ae_std.append(ae_std_f)"
   ]
  },
  {
   "cell_type": "code",
   "execution_count": 23,
   "metadata": {},
   "outputs": [
    {
     "data": {
      "text/plain": [
       "[[array(0.14319861, dtype=float32),\n",
       "  array(0.14049861, dtype=float32),\n",
       "  array(0.14388081, dtype=float32),\n",
       "  array(0.14016625, dtype=float32)]]"
      ]
     },
     "execution_count": 23,
     "metadata": {},
     "output_type": "execute_result"
    }
   ],
   "source": [
    "aod_mean"
   ]
  },
  {
   "cell_type": "code",
   "execution_count": null,
   "metadata": {},
   "outputs": [],
   "source": [
    "import numpy as np\n",
    "import matplotlib.pyplot as plt\n",
    "\n",
    "clusters = range(len(aod_cluster_means))\n",
    "\n",
    "plt.figure(figsize=(10,6))\n",
    "\n",
    "for f_idx, f in enumerate(factors):\n",
    "    means = [aod_cluster_means[c][f_idx] for c in clusters]\n",
    "    stds  = [aod_cluster_stds[c][f_idx] for c in clusters]\n",
    "    \n",
    "    plt.errorbar(\n",
    "        clusters,\n",
    "        means,\n",
    "        yerr=stds,\n",
    "        marker=\"o\",\n",
    "        capsize=5,\n",
    "        label=f\"factor={f}\"\n",
    "    )\n",
    "\n",
    "plt.xticks(clusters, [f\"Cluster {c}\" for c in clusters])\n",
    "plt.xlabel(\"Cluster\")\n",
    "plt.ylabel(\"AOD (mean ± std)\")\n",
    "plt.title(\"AOD mean per cluster for each factor\")\n",
    "plt.legend()\n",
    "plt.grid()\n",
    "plt.show()"
   ]
  }
 ],
 "metadata": {
  "kernelspec": {
   "display_name": "Python 3 (ipykernel)",
   "language": "python",
   "name": "python3"
  },
  "language_info": {
   "codemirror_mode": {
    "name": "ipython",
    "version": 3
   },
   "file_extension": ".py",
   "mimetype": "text/x-python",
   "name": "python",
   "nbconvert_exporter": "python",
   "pygments_lexer": "ipython3",
   "version": "3.11.11"
  }
 },
 "nbformat": 4,
 "nbformat_minor": 2
}
